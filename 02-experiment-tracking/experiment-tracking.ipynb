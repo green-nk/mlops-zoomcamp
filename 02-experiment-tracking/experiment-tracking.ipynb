{
 "cells": [
  {
   "cell_type": "markdown",
   "metadata": {},
   "source": [
    "# ML Experiment Tracking"
   ]
  },
  {
   "cell_type": "markdown",
   "metadata": {},
   "source": [
    "In short, ML experiment tracking is a process of keeping track of relevant information:\n",
    "\n",
    "* Parameters: hyperparameters (and data path)\n",
    "* Artifacts: models and visualization\n",
    "* Metrics\n",
    "* Metadata: source code and environment\n",
    "\n",
    "It is just [a part of MLOps process](https://neptune.ai/blog/ml-experiment-tracking) helping in efficiently building an ML model. It also provides three aspects to our development which are **reproducibility**, **optimization** and **organization**.\n",
    "\n",
    "There are several tools and framework for managing ML lifecycle such as [MLflow](https://mlflow.org/), [Weight and Biases](https://wandb.ai/site) and [Comet ML](https://www.comet.com/site/). In this tutorial we'll focus on *MLflow* but you can find practical tutorial on [*Weight and Biases*](../cohorts/2023/02-experiment-tracking/wandb.md) and adapt to your needs as well."
   ]
  },
  {
   "cell_type": "markdown",
   "metadata": {},
   "source": [
    "*MLflow* has four main modules as the following:\n",
    "\n",
    "* Tracking: tracks experiments and their results\n",
    "* Project: packages and shares data science code\n",
    "* Models: standardize model format and deployment\n",
    "* Registry: model management and model versioning\n",
    "\n",
    "For ML experiment tracking, we mostly use only the *Tracking* module in the package.\n",
    "\n",
    "Note that *MLflow* provides only a rough framework because it is only the Python library. The standard concepts that are used among tools:\n",
    "\n",
    "* ML experiment: the process of building an ML model\n",
    "* Experiment run: each trial in an ML experiment\n",
    "* Run artifact: any file that is associated with an experiment run\n",
    "* Experiment metadata: related information about an ML experiment\n",
    "\n",
    "In practice, we need also need a workflow (a framework) in order to even smooth the process. There are interesting framework to choose from. The recommended one is [Databricks MLOps Workflow](https://docs.databricks.com/en/machine-learning/mlops/mlops-workflow.html)."
   ]
  },
  {
   "cell_type": "markdown",
   "metadata": {},
   "source": [
    "## Setup"
   ]
  },
  {
   "cell_type": "code",
   "execution_count": 1,
   "metadata": {},
   "outputs": [],
   "source": [
    "import numpy as np\n",
    "import pandas as pd\n",
    "import matplotlib.pyplot as plt\n",
    "\n",
    "import seaborn as sns\n",
    "import mlflow\n",
    "import pickle\n",
    "from functools import partial\n",
    "from sklearn.feature_extraction import DictVectorizer\n",
    "from sklearn.linear_model import ElasticNet\n",
    "from sklearn.model_selection import KFold, cross_val_score\n",
    "from sklearn.metrics import root_mean_squared_error\n",
    "from hyperopt import fmin, tpe, hp, Trials, STATUS_OK\n",
    "from hyperopt.pyll import scope\n",
    "from xgboost import XGBRegressor"
   ]
  },
  {
   "cell_type": "code",
   "execution_count": 2,
   "metadata": {},
   "outputs": [],
   "source": [
    "# Helper functions\n",
    "def preprocessing(raw_df, to_str_columns):\n",
    "    \"\"\"\n",
    "    Preprocessing data before model training.\n",
    "    - Create target.\n",
    "    - Filter only a trip happened within an hour at most.\n",
    "    - Cast to specific columns into \"string\" data type.\n",
    "    \"\"\"\n",
    "    df = raw_df.copy()\n",
    "\n",
    "    df[\"trip_duration\"] = (df[\"lpep_dropoff_datetime\"] - df[\"lpep_pickup_datetime\"]).apply(lambda x: x.total_seconds() / 60)\n",
    "    df = df[(df[\"trip_duration\"] >= 1) & (df[\"trip_duration\"] <= 60)].copy()\n",
    "    df[to_str_columns] = df[to_str_columns].astype(str)\n",
    "\n",
    "    return df\n",
    "\n",
    "\n",
    "def build_features(df):\n",
    "    \"\"\"\n",
    "    Build synthetic features.\n",
    "    - RouteID: PULocationID x DOLocationID\n",
    "    \"\"\"\n",
    "    feature_df = df.copy()\n",
    "    feature_df[\"RouteID\"] = feature_df[\"PULocationID\"] + '_' + feature_df[\"DOLocationID\"]\n",
    "\n",
    "    return feature_df\n",
    "\n",
    "\n",
    "def feature_engineering(df, categorical_features, numerical_features, target, v=None):\n",
    "    \"\"\"\n",
    "    Feature engineering.\n",
    "    - One-hot encoding\n",
    "    - Generate X and y\n",
    "    \"\"\"\n",
    "    data = df[categorical_features + numerical_features].to_dict(orient=\"records\")\n",
    "\n",
    "    if v is None:\n",
    "        v = DictVectorizer()\n",
    "        X = v.fit_transform(data)\n",
    "    else:\n",
    "        X = v.transform(data)\n",
    "    \n",
    "    y = df[target].values\n",
    "\n",
    "    return v, X, y"
   ]
  },
  {
   "cell_type": "code",
   "execution_count": 3,
   "metadata": {},
   "outputs": [
    {
     "data": {
      "text/plain": [
       "<Experiment: artifact_location='/workspaces/mlops-zoomcamp/02-experiment-tracking/mlruns/1', creation_time=1717130592608, experiment_id='1', last_update_time=1717130592608, lifecycle_stage='active', name='test-nyc-taxi-experiment', tags={}>"
      ]
     },
     "execution_count": 3,
     "metadata": {},
     "output_type": "execute_result"
    }
   ],
   "source": [
    "# MLflow setup\n",
    "mlflow.set_tracking_uri(\"sqlite:///mlflow.db\")\n",
    "mlflow.set_experiment(\"test-nyc-taxi-experiment\")"
   ]
  },
  {
   "cell_type": "markdown",
   "metadata": {},
   "source": [
    "Note that *MLflow* needs a place to store every relevant information from an experiment run. Therefore, we need to set what called a \"tracking server\". You can also do that on a local machine via `mlflow.set_tracking_uri(\"http://127.0.0.1:5000\")`."
   ]
  },
  {
   "cell_type": "markdown",
   "metadata": {},
   "source": [
    "## Basic Experiment Run"
   ]
  },
  {
   "cell_type": "markdown",
   "metadata": {},
   "source": [
    "In order to add *MLflow* to the ML model development process, we need to add `with mlflow.start_run() as run:` snippet of code as a part of ML experiment tracking and you can start logging every information you find useful later on in the model debugging process."
   ]
  },
  {
   "cell_type": "code",
   "execution_count": 4,
   "metadata": {},
   "outputs": [],
   "source": [
    "# Set predictors and target\n",
    "categorical_features = [\"RouteID\"]\n",
    "numerical_features = [\"trip_distance\"]\n",
    "\n",
    "target = \"trip_duration\""
   ]
  },
  {
   "cell_type": "markdown",
   "metadata": {},
   "source": [
    "### Model Training"
   ]
  },
  {
   "cell_type": "code",
   "execution_count": 5,
   "metadata": {},
   "outputs": [
    {
     "name": "stdout",
     "output_type": "stream",
     "text": [
      "Feature vector: (73908, 13221)\n",
      "Output vector: (73908,)\n"
     ]
    }
   ],
   "source": [
    "# Data preprocessing\n",
    "training_data = \"../01-intro/data/green_tripdata_2021-01.parquet\"\n",
    "raw_train_df = pd.read_parquet(training_data)\n",
    "\n",
    "train_df = preprocessing(raw_train_df, to_str_columns=[\"PULocationID\", \"DOLocationID\"])\n",
    "train_df = build_features(train_df)\n",
    "\n",
    "v, X_train, y_train = feature_engineering(train_df, categorical_features, numerical_features, target)\n",
    "print(f\"Feature vector: {X_train.shape}\")\n",
    "print(f\"Output vector: {y_train.shape}\")"
   ]
  },
  {
   "cell_type": "code",
   "execution_count": 6,
   "metadata": {},
   "outputs": [
    {
     "data": {
      "text/html": [
       "<style>#sk-container-id-1 {\n",
       "  /* Definition of color scheme common for light and dark mode */\n",
       "  --sklearn-color-text: black;\n",
       "  --sklearn-color-line: gray;\n",
       "  /* Definition of color scheme for unfitted estimators */\n",
       "  --sklearn-color-unfitted-level-0: #fff5e6;\n",
       "  --sklearn-color-unfitted-level-1: #f6e4d2;\n",
       "  --sklearn-color-unfitted-level-2: #ffe0b3;\n",
       "  --sklearn-color-unfitted-level-3: chocolate;\n",
       "  /* Definition of color scheme for fitted estimators */\n",
       "  --sklearn-color-fitted-level-0: #f0f8ff;\n",
       "  --sklearn-color-fitted-level-1: #d4ebff;\n",
       "  --sklearn-color-fitted-level-2: #b3dbfd;\n",
       "  --sklearn-color-fitted-level-3: cornflowerblue;\n",
       "\n",
       "  /* Specific color for light theme */\n",
       "  --sklearn-color-text-on-default-background: var(--sg-text-color, var(--theme-code-foreground, var(--jp-content-font-color1, black)));\n",
       "  --sklearn-color-background: var(--sg-background-color, var(--theme-background, var(--jp-layout-color0, white)));\n",
       "  --sklearn-color-border-box: var(--sg-text-color, var(--theme-code-foreground, var(--jp-content-font-color1, black)));\n",
       "  --sklearn-color-icon: #696969;\n",
       "\n",
       "  @media (prefers-color-scheme: dark) {\n",
       "    /* Redefinition of color scheme for dark theme */\n",
       "    --sklearn-color-text-on-default-background: var(--sg-text-color, var(--theme-code-foreground, var(--jp-content-font-color1, white)));\n",
       "    --sklearn-color-background: var(--sg-background-color, var(--theme-background, var(--jp-layout-color0, #111)));\n",
       "    --sklearn-color-border-box: var(--sg-text-color, var(--theme-code-foreground, var(--jp-content-font-color1, white)));\n",
       "    --sklearn-color-icon: #878787;\n",
       "  }\n",
       "}\n",
       "\n",
       "#sk-container-id-1 {\n",
       "  color: var(--sklearn-color-text);\n",
       "}\n",
       "\n",
       "#sk-container-id-1 pre {\n",
       "  padding: 0;\n",
       "}\n",
       "\n",
       "#sk-container-id-1 input.sk-hidden--visually {\n",
       "  border: 0;\n",
       "  clip: rect(1px 1px 1px 1px);\n",
       "  clip: rect(1px, 1px, 1px, 1px);\n",
       "  height: 1px;\n",
       "  margin: -1px;\n",
       "  overflow: hidden;\n",
       "  padding: 0;\n",
       "  position: absolute;\n",
       "  width: 1px;\n",
       "}\n",
       "\n",
       "#sk-container-id-1 div.sk-dashed-wrapped {\n",
       "  border: 1px dashed var(--sklearn-color-line);\n",
       "  margin: 0 0.4em 0.5em 0.4em;\n",
       "  box-sizing: border-box;\n",
       "  padding-bottom: 0.4em;\n",
       "  background-color: var(--sklearn-color-background);\n",
       "}\n",
       "\n",
       "#sk-container-id-1 div.sk-container {\n",
       "  /* jupyter's `normalize.less` sets `[hidden] { display: none; }`\n",
       "     but bootstrap.min.css set `[hidden] { display: none !important; }`\n",
       "     so we also need the `!important` here to be able to override the\n",
       "     default hidden behavior on the sphinx rendered scikit-learn.org.\n",
       "     See: https://github.com/scikit-learn/scikit-learn/issues/21755 */\n",
       "  display: inline-block !important;\n",
       "  position: relative;\n",
       "}\n",
       "\n",
       "#sk-container-id-1 div.sk-text-repr-fallback {\n",
       "  display: none;\n",
       "}\n",
       "\n",
       "div.sk-parallel-item,\n",
       "div.sk-serial,\n",
       "div.sk-item {\n",
       "  /* draw centered vertical line to link estimators */\n",
       "  background-image: linear-gradient(var(--sklearn-color-text-on-default-background), var(--sklearn-color-text-on-default-background));\n",
       "  background-size: 2px 100%;\n",
       "  background-repeat: no-repeat;\n",
       "  background-position: center center;\n",
       "}\n",
       "\n",
       "/* Parallel-specific style estimator block */\n",
       "\n",
       "#sk-container-id-1 div.sk-parallel-item::after {\n",
       "  content: \"\";\n",
       "  width: 100%;\n",
       "  border-bottom: 2px solid var(--sklearn-color-text-on-default-background);\n",
       "  flex-grow: 1;\n",
       "}\n",
       "\n",
       "#sk-container-id-1 div.sk-parallel {\n",
       "  display: flex;\n",
       "  align-items: stretch;\n",
       "  justify-content: center;\n",
       "  background-color: var(--sklearn-color-background);\n",
       "  position: relative;\n",
       "}\n",
       "\n",
       "#sk-container-id-1 div.sk-parallel-item {\n",
       "  display: flex;\n",
       "  flex-direction: column;\n",
       "}\n",
       "\n",
       "#sk-container-id-1 div.sk-parallel-item:first-child::after {\n",
       "  align-self: flex-end;\n",
       "  width: 50%;\n",
       "}\n",
       "\n",
       "#sk-container-id-1 div.sk-parallel-item:last-child::after {\n",
       "  align-self: flex-start;\n",
       "  width: 50%;\n",
       "}\n",
       "\n",
       "#sk-container-id-1 div.sk-parallel-item:only-child::after {\n",
       "  width: 0;\n",
       "}\n",
       "\n",
       "/* Serial-specific style estimator block */\n",
       "\n",
       "#sk-container-id-1 div.sk-serial {\n",
       "  display: flex;\n",
       "  flex-direction: column;\n",
       "  align-items: center;\n",
       "  background-color: var(--sklearn-color-background);\n",
       "  padding-right: 1em;\n",
       "  padding-left: 1em;\n",
       "}\n",
       "\n",
       "\n",
       "/* Toggleable style: style used for estimator/Pipeline/ColumnTransformer box that is\n",
       "clickable and can be expanded/collapsed.\n",
       "- Pipeline and ColumnTransformer use this feature and define the default style\n",
       "- Estimators will overwrite some part of the style using the `sk-estimator` class\n",
       "*/\n",
       "\n",
       "/* Pipeline and ColumnTransformer style (default) */\n",
       "\n",
       "#sk-container-id-1 div.sk-toggleable {\n",
       "  /* Default theme specific background. It is overwritten whether we have a\n",
       "  specific estimator or a Pipeline/ColumnTransformer */\n",
       "  background-color: var(--sklearn-color-background);\n",
       "}\n",
       "\n",
       "/* Toggleable label */\n",
       "#sk-container-id-1 label.sk-toggleable__label {\n",
       "  cursor: pointer;\n",
       "  display: block;\n",
       "  width: 100%;\n",
       "  margin-bottom: 0;\n",
       "  padding: 0.5em;\n",
       "  box-sizing: border-box;\n",
       "  text-align: center;\n",
       "}\n",
       "\n",
       "#sk-container-id-1 label.sk-toggleable__label-arrow:before {\n",
       "  /* Arrow on the left of the label */\n",
       "  content: \"▸\";\n",
       "  float: left;\n",
       "  margin-right: 0.25em;\n",
       "  color: var(--sklearn-color-icon);\n",
       "}\n",
       "\n",
       "#sk-container-id-1 label.sk-toggleable__label-arrow:hover:before {\n",
       "  color: var(--sklearn-color-text);\n",
       "}\n",
       "\n",
       "/* Toggleable content - dropdown */\n",
       "\n",
       "#sk-container-id-1 div.sk-toggleable__content {\n",
       "  max-height: 0;\n",
       "  max-width: 0;\n",
       "  overflow: hidden;\n",
       "  text-align: left;\n",
       "  /* unfitted */\n",
       "  background-color: var(--sklearn-color-unfitted-level-0);\n",
       "}\n",
       "\n",
       "#sk-container-id-1 div.sk-toggleable__content.fitted {\n",
       "  /* fitted */\n",
       "  background-color: var(--sklearn-color-fitted-level-0);\n",
       "}\n",
       "\n",
       "#sk-container-id-1 div.sk-toggleable__content pre {\n",
       "  margin: 0.2em;\n",
       "  border-radius: 0.25em;\n",
       "  color: var(--sklearn-color-text);\n",
       "  /* unfitted */\n",
       "  background-color: var(--sklearn-color-unfitted-level-0);\n",
       "}\n",
       "\n",
       "#sk-container-id-1 div.sk-toggleable__content.fitted pre {\n",
       "  /* unfitted */\n",
       "  background-color: var(--sklearn-color-fitted-level-0);\n",
       "}\n",
       "\n",
       "#sk-container-id-1 input.sk-toggleable__control:checked~div.sk-toggleable__content {\n",
       "  /* Expand drop-down */\n",
       "  max-height: 200px;\n",
       "  max-width: 100%;\n",
       "  overflow: auto;\n",
       "}\n",
       "\n",
       "#sk-container-id-1 input.sk-toggleable__control:checked~label.sk-toggleable__label-arrow:before {\n",
       "  content: \"▾\";\n",
       "}\n",
       "\n",
       "/* Pipeline/ColumnTransformer-specific style */\n",
       "\n",
       "#sk-container-id-1 div.sk-label input.sk-toggleable__control:checked~label.sk-toggleable__label {\n",
       "  color: var(--sklearn-color-text);\n",
       "  background-color: var(--sklearn-color-unfitted-level-2);\n",
       "}\n",
       "\n",
       "#sk-container-id-1 div.sk-label.fitted input.sk-toggleable__control:checked~label.sk-toggleable__label {\n",
       "  background-color: var(--sklearn-color-fitted-level-2);\n",
       "}\n",
       "\n",
       "/* Estimator-specific style */\n",
       "\n",
       "/* Colorize estimator box */\n",
       "#sk-container-id-1 div.sk-estimator input.sk-toggleable__control:checked~label.sk-toggleable__label {\n",
       "  /* unfitted */\n",
       "  background-color: var(--sklearn-color-unfitted-level-2);\n",
       "}\n",
       "\n",
       "#sk-container-id-1 div.sk-estimator.fitted input.sk-toggleable__control:checked~label.sk-toggleable__label {\n",
       "  /* fitted */\n",
       "  background-color: var(--sklearn-color-fitted-level-2);\n",
       "}\n",
       "\n",
       "#sk-container-id-1 div.sk-label label.sk-toggleable__label,\n",
       "#sk-container-id-1 div.sk-label label {\n",
       "  /* The background is the default theme color */\n",
       "  color: var(--sklearn-color-text-on-default-background);\n",
       "}\n",
       "\n",
       "/* On hover, darken the color of the background */\n",
       "#sk-container-id-1 div.sk-label:hover label.sk-toggleable__label {\n",
       "  color: var(--sklearn-color-text);\n",
       "  background-color: var(--sklearn-color-unfitted-level-2);\n",
       "}\n",
       "\n",
       "/* Label box, darken color on hover, fitted */\n",
       "#sk-container-id-1 div.sk-label.fitted:hover label.sk-toggleable__label.fitted {\n",
       "  color: var(--sklearn-color-text);\n",
       "  background-color: var(--sklearn-color-fitted-level-2);\n",
       "}\n",
       "\n",
       "/* Estimator label */\n",
       "\n",
       "#sk-container-id-1 div.sk-label label {\n",
       "  font-family: monospace;\n",
       "  font-weight: bold;\n",
       "  display: inline-block;\n",
       "  line-height: 1.2em;\n",
       "}\n",
       "\n",
       "#sk-container-id-1 div.sk-label-container {\n",
       "  text-align: center;\n",
       "}\n",
       "\n",
       "/* Estimator-specific */\n",
       "#sk-container-id-1 div.sk-estimator {\n",
       "  font-family: monospace;\n",
       "  border: 1px dotted var(--sklearn-color-border-box);\n",
       "  border-radius: 0.25em;\n",
       "  box-sizing: border-box;\n",
       "  margin-bottom: 0.5em;\n",
       "  /* unfitted */\n",
       "  background-color: var(--sklearn-color-unfitted-level-0);\n",
       "}\n",
       "\n",
       "#sk-container-id-1 div.sk-estimator.fitted {\n",
       "  /* fitted */\n",
       "  background-color: var(--sklearn-color-fitted-level-0);\n",
       "}\n",
       "\n",
       "/* on hover */\n",
       "#sk-container-id-1 div.sk-estimator:hover {\n",
       "  /* unfitted */\n",
       "  background-color: var(--sklearn-color-unfitted-level-2);\n",
       "}\n",
       "\n",
       "#sk-container-id-1 div.sk-estimator.fitted:hover {\n",
       "  /* fitted */\n",
       "  background-color: var(--sklearn-color-fitted-level-2);\n",
       "}\n",
       "\n",
       "/* Specification for estimator info (e.g. \"i\" and \"?\") */\n",
       "\n",
       "/* Common style for \"i\" and \"?\" */\n",
       "\n",
       ".sk-estimator-doc-link,\n",
       "a:link.sk-estimator-doc-link,\n",
       "a:visited.sk-estimator-doc-link {\n",
       "  float: right;\n",
       "  font-size: smaller;\n",
       "  line-height: 1em;\n",
       "  font-family: monospace;\n",
       "  background-color: var(--sklearn-color-background);\n",
       "  border-radius: 1em;\n",
       "  height: 1em;\n",
       "  width: 1em;\n",
       "  text-decoration: none !important;\n",
       "  margin-left: 1ex;\n",
       "  /* unfitted */\n",
       "  border: var(--sklearn-color-unfitted-level-1) 1pt solid;\n",
       "  color: var(--sklearn-color-unfitted-level-1);\n",
       "}\n",
       "\n",
       ".sk-estimator-doc-link.fitted,\n",
       "a:link.sk-estimator-doc-link.fitted,\n",
       "a:visited.sk-estimator-doc-link.fitted {\n",
       "  /* fitted */\n",
       "  border: var(--sklearn-color-fitted-level-1) 1pt solid;\n",
       "  color: var(--sklearn-color-fitted-level-1);\n",
       "}\n",
       "\n",
       "/* On hover */\n",
       "div.sk-estimator:hover .sk-estimator-doc-link:hover,\n",
       ".sk-estimator-doc-link:hover,\n",
       "div.sk-label-container:hover .sk-estimator-doc-link:hover,\n",
       ".sk-estimator-doc-link:hover {\n",
       "  /* unfitted */\n",
       "  background-color: var(--sklearn-color-unfitted-level-3);\n",
       "  color: var(--sklearn-color-background);\n",
       "  text-decoration: none;\n",
       "}\n",
       "\n",
       "div.sk-estimator.fitted:hover .sk-estimator-doc-link.fitted:hover,\n",
       ".sk-estimator-doc-link.fitted:hover,\n",
       "div.sk-label-container:hover .sk-estimator-doc-link.fitted:hover,\n",
       ".sk-estimator-doc-link.fitted:hover {\n",
       "  /* fitted */\n",
       "  background-color: var(--sklearn-color-fitted-level-3);\n",
       "  color: var(--sklearn-color-background);\n",
       "  text-decoration: none;\n",
       "}\n",
       "\n",
       "/* Span, style for the box shown on hovering the info icon */\n",
       ".sk-estimator-doc-link span {\n",
       "  display: none;\n",
       "  z-index: 9999;\n",
       "  position: relative;\n",
       "  font-weight: normal;\n",
       "  right: .2ex;\n",
       "  padding: .5ex;\n",
       "  margin: .5ex;\n",
       "  width: min-content;\n",
       "  min-width: 20ex;\n",
       "  max-width: 50ex;\n",
       "  color: var(--sklearn-color-text);\n",
       "  box-shadow: 2pt 2pt 4pt #999;\n",
       "  /* unfitted */\n",
       "  background: var(--sklearn-color-unfitted-level-0);\n",
       "  border: .5pt solid var(--sklearn-color-unfitted-level-3);\n",
       "}\n",
       "\n",
       ".sk-estimator-doc-link.fitted span {\n",
       "  /* fitted */\n",
       "  background: var(--sklearn-color-fitted-level-0);\n",
       "  border: var(--sklearn-color-fitted-level-3);\n",
       "}\n",
       "\n",
       ".sk-estimator-doc-link:hover span {\n",
       "  display: block;\n",
       "}\n",
       "\n",
       "/* \"?\"-specific style due to the `<a>` HTML tag */\n",
       "\n",
       "#sk-container-id-1 a.estimator_doc_link {\n",
       "  float: right;\n",
       "  font-size: 1rem;\n",
       "  line-height: 1em;\n",
       "  font-family: monospace;\n",
       "  background-color: var(--sklearn-color-background);\n",
       "  border-radius: 1rem;\n",
       "  height: 1rem;\n",
       "  width: 1rem;\n",
       "  text-decoration: none;\n",
       "  /* unfitted */\n",
       "  color: var(--sklearn-color-unfitted-level-1);\n",
       "  border: var(--sklearn-color-unfitted-level-1) 1pt solid;\n",
       "}\n",
       "\n",
       "#sk-container-id-1 a.estimator_doc_link.fitted {\n",
       "  /* fitted */\n",
       "  border: var(--sklearn-color-fitted-level-1) 1pt solid;\n",
       "  color: var(--sklearn-color-fitted-level-1);\n",
       "}\n",
       "\n",
       "/* On hover */\n",
       "#sk-container-id-1 a.estimator_doc_link:hover {\n",
       "  /* unfitted */\n",
       "  background-color: var(--sklearn-color-unfitted-level-3);\n",
       "  color: var(--sklearn-color-background);\n",
       "  text-decoration: none;\n",
       "}\n",
       "\n",
       "#sk-container-id-1 a.estimator_doc_link.fitted:hover {\n",
       "  /* fitted */\n",
       "  background-color: var(--sklearn-color-fitted-level-3);\n",
       "}\n",
       "</style><div id=\"sk-container-id-1\" class=\"sk-top-container\"><div class=\"sk-text-repr-fallback\"><pre>ElasticNet(alpha=0.001, l1_ratio=0.95, random_state=42)</pre><b>In a Jupyter environment, please rerun this cell to show the HTML representation or trust the notebook. <br />On GitHub, the HTML representation is unable to render, please try loading this page with nbviewer.org.</b></div><div class=\"sk-container\" hidden><div class=\"sk-item\"><div class=\"sk-estimator fitted sk-toggleable\"><input class=\"sk-toggleable__control sk-hidden--visually\" id=\"sk-estimator-id-1\" type=\"checkbox\" checked><label for=\"sk-estimator-id-1\" class=\"sk-toggleable__label fitted sk-toggleable__label-arrow fitted\">&nbsp;&nbsp;ElasticNet<a class=\"sk-estimator-doc-link fitted\" rel=\"noreferrer\" target=\"_blank\" href=\"https://scikit-learn.org/1.5/modules/generated/sklearn.linear_model.ElasticNet.html\">?<span>Documentation for ElasticNet</span></a><span class=\"sk-estimator-doc-link fitted\">i<span>Fitted</span></span></label><div class=\"sk-toggleable__content fitted\"><pre>ElasticNet(alpha=0.001, l1_ratio=0.95, random_state=42)</pre></div> </div></div></div></div>"
      ],
      "text/plain": [
       "ElasticNet(alpha=0.001, l1_ratio=0.95, random_state=42)"
      ]
     },
     "execution_count": 6,
     "metadata": {},
     "output_type": "execute_result"
    }
   ],
   "source": [
    "# Model training\n",
    "alpha = 0.001\n",
    "l1_ratio = 0.95\n",
    "\n",
    "regr = ElasticNet(alpha=alpha, l1_ratio=l1_ratio, random_state=42)\n",
    "regr.fit(X_train, y_train)"
   ]
  },
  {
   "cell_type": "markdown",
   "metadata": {},
   "source": [
    "### Model Evaluation"
   ]
  },
  {
   "cell_type": "code",
   "execution_count": 7,
   "metadata": {},
   "outputs": [
    {
     "name": "stdout",
     "output_type": "stream",
     "text": [
      "Feature vector: (61921, 13221)\n",
      "Output vector: (61921,)\n"
     ]
    }
   ],
   "source": [
    "# Data preprocessing\n",
    "validation_data = \"../01-intro/data/green_tripdata_2021-02.parquet\"\n",
    "raw_validation_df = pd.read_parquet(validation_data)\n",
    "\n",
    "validation_df = preprocessing(raw_validation_df, to_str_columns=[\"PULocationID\", \"DOLocationID\"])\n",
    "validation_df = build_features(validation_df)\n",
    "\n",
    "_, X_val, y_val = feature_engineering(validation_df, categorical_features, numerical_features, target, v=v)\n",
    "print(f\"Feature vector: {X_val.shape}\")\n",
    "print(f\"Output vector: {y_val.shape}\")"
   ]
  },
  {
   "cell_type": "code",
   "execution_count": 8,
   "metadata": {},
   "outputs": [
    {
     "name": "stdout",
     "output_type": "stream",
     "text": [
      "RMSE on validation dataset: 9.42\n"
     ]
    },
    {
     "data": {
      "image/png": "[encoded data removed]",
      "text/plain": [
       "<Figure size 640x480 with 1 Axes>"
      ]
     },
     "metadata": {},
     "output_type": "display_data"
    }
   ],
   "source": [
    "# Model evaluation\n",
    "y_pred = regr.predict(X_val)\n",
    "\n",
    "rmse = root_mean_squared_error(y_val, y_pred)\n",
    "print(f\"RMSE on validation dataset: {rmse:.2f}\")\n",
    "\n",
    "trip_duration_dist, _ = plt.subplots() # For storing as a Figure object\n",
    "sns.histplot(y_val, label=\"actual\", kde=True, stat=\"density\")\n",
    "sns.histplot(y_pred, label=\"prediction\", kde=True, stat=\"density\")\n",
    "\n",
    "plt.legend()\n",
    "# plt.savefig(\"trip-duration-distribution.png\")\n",
    "plt.show()"
   ]
  },
  {
   "cell_type": "markdown",
   "metadata": {},
   "source": [
    "### Model Persistence"
   ]
  },
  {
   "cell_type": "code",
   "execution_count": 9,
   "metadata": {},
   "outputs": [],
   "source": [
    "with open(\"models/baseline-eln.pkl\", \"wb\") as f:\n",
    "    pickle.dump((v, regr), f)"
   ]
  },
  {
   "cell_type": "markdown",
   "metadata": {},
   "source": [
    "### ML Experiment Tracking"
   ]
  },
  {
   "cell_type": "code",
   "execution_count": 10,
   "metadata": {},
   "outputs": [],
   "source": [
    "with mlflow.start_run() as run:\n",
    "    \n",
    "    # For searching purpose\n",
    "    mlflow.set_tag(\"developer\", \"nkgreenk\")\n",
    "    mlflow.set_tag(\"model_type\", \"baseline\")\n",
    "    mlflow.set_tag(\"model\", \"linear\")\n",
    "\n",
    "    # Data versioning logging as a data path\n",
    "    mlflow.log_param(\"training_data\", training_data)\n",
    "    mlflow.log_param(\"validation_data\", validation_data)\n",
    "\n",
    "    # Log hyperparameters\n",
    "    mlflow.log_params({\"alpha\": alpha, \"l1_ratio\": l1_ratio})\n",
    "    \n",
    "    # Log metric(s)\n",
    "    mlflow.log_metric(\"rmse\", rmse)\n",
    "\n",
    "    # Log visualization\n",
    "    mlflow.log_figure(trip_duration_dist, \"visualization/baseline-trip-duration-distribution.png\")\n",
    "    \n",
    "    # Log model by referring to a local object\n",
    "    mlflow.log_artifact(local_path=\"models/baseline-eln.pkl\", artifact_path=\"pickle-models\")"
   ]
  },
  {
   "cell_type": "markdown",
   "metadata": {},
   "source": [
    "Note that you can also wrap model training, model evaluation and model persistence processes in the ML experiment tracking part. By doing so, it allows us to know the time duration of each run, which in my opinion, it is also an important metric to our ML model development.\n",
    "\n",
    "However, by separating each section into process, it helps developer to clearly see and understand the process better. Therefore, it is up to the team's preference which one to choose from.\n",
    "\n",
    "For basic experiment run, it may be useful when logging a baseline or simple model. Next, we'll see how we can use *MLflow* together with hyperparameter optimization framework like *Hyperopt* or *Optuna* to automatically log each hyperparameter in each run and use them to compare and debug our model."
   ]
  },
  {
   "cell_type": "markdown",
   "metadata": {},
   "source": [
    "## Experiment Run with Hyperparameter Tuning"
   ]
  },
  {
   "cell_type": "markdown",
   "metadata": {},
   "source": [
    "Basically, in *Scikit-Learn*, it has the general methods for every ML algorithm to do hyperparameter optimization, Both of them are `GridSearchCV` and `RandomizedSearchCV`. They can provides a good results but the main disadvantage is it has to do exhausive search on the given parameters (For `RandomizedSearchCV` is the same but with the smaller search space).\n",
    "\n",
    "As a result, a new approach called **Bayesian Optimization** suggest the way to maintain the performance (or even improve it) and lower a large amount of computation cost and time.\n",
    "\n",
    "Bayesian optimization makes use of the past evaluation to build a probability model of the objective function so called a **surrogate model** and uses it to select hyperparameters using what called an **acquisition function** to evaluate in the true objective function iteratively. The process is described as the following:\n",
    "\n",
    "1. First, randomly initiate a surrogate model and an acquisition function.\n",
    "2. For each iteration, find the new hyperparameters where the acquisition function is optimized.\n",
    "3. Calculate the objective function score of the new hyperparameters.\n",
    "4. Update the surrogate model with hyperparameters-objective-function-score pair of example.\n",
    "\n",
    "Note that an acquisition function is a function of a surrogate model. For the full detail explaination to bayesian optimization:\n",
    "\n",
    "* [Bayesian Optimization Concept Explained in Layman Terms](https://towardsdatascience.com/bayesian-optimization-concept-explained-in-layman-terms-1d2bcdeaf12f)\n",
    "* [Step-by-Step Guide to Bayesian Optimization: A Python-based Approach](https://medium.com/@okanyenigun/step-by-step-guide-to-bayesian-optimization-a-python-based-approach-3558985c6818)"
   ]
  },
  {
   "cell_type": "markdown",
   "metadata": {},
   "source": [
    "Now, let's dive into code. First, you need to define a `search_space`. For getting the best model for tabular data, we are likely to use ensemble model like boosting or bagging. In this case, we'll use *XGBoost* model."
   ]
  },
  {
   "cell_type": "markdown",
   "metadata": {},
   "source": [
    "### Search Space for Hyperparameter Tuning"
   ]
  },
  {
   "cell_type": "markdown",
   "metadata": {},
   "source": [
    "Instead of defining hyperparameters discretely like doing via `GridSearchCV` or `RandomizedSearchCV`, for *XGBoost*, there are a lot of hyperparameters we can tune.\n",
    "\n",
    "Note that we'll not use `early_stopping_rounds` for this although it is very common in practice. The reason is that `n_estimators` is the parameter that we are about to tune in the process.\n",
    "\n",
    "If you want to set `early_stopping_rounds` to empirically find the opimal `n_estimators` instead, in order to completely make use of every samples in your dataset, you need to split data on `train_df` for evaluating in the model building process. Next, you need to fit the model on the whole `train_df` before going to the next processes like hyperparamer tuning or model selection using `best_iteration` attribute. Note that you can also make use of cross validation to fully use all of your dataset. \n",
    "\n",
    "This is unique for *XGBoost* only as in the algorithms which their training processes are similar such as MLPs, they also have the number of `epoch` but it is impossible to update weight in MLPs again with the whole dataset. If you doing so, it is called **re-training** or **fine-tuning** process."
   ]
  },
  {
   "cell_type": "code",
   "execution_count": 11,
   "metadata": {},
   "outputs": [],
   "source": [
    "search_space = {\n",
    "    \"n_estimators\": scope.int(hp.quniform(\"n_estimators\", 100, 1000, 50)), \n",
    "    # \"max_depth\": scope.int(hp.quniform(\"max_depth\", 5, 100, 5)), \n",
    "    \"learning_rate\": hp.loguniform(\"learning_rate\", -3, 0), \n",
    "    # \"reg_alpha\": hp.loguniform(\"reg_alpha\", -5, -1), \n",
    "    # \"reg_lambda\": hp.loguniform(\"reg_lambda\", -6, -1), \n",
    "    # \"min_child_weight\": hp.loguniform(\"min_child_weight\", -1, 3), \n",
    "    \"objective\": \"reg:squarederror\", \n",
    "    \"random_state\": 42, \n",
    "    \"n_jobs\": -1\n",
    "}"
   ]
  },
  {
   "cell_type": "markdown",
   "metadata": {},
   "source": [
    "### Objective Function for Hyperparameter Tuning"
   ]
  },
  {
   "cell_type": "markdown",
   "metadata": {},
   "source": [
    "Next, you need to define an `objective` function.\n",
    "\n",
    "Note that in order to use *MLflow* with *Hyperopt*, we need to wrap ML experiment tracking part into the `objective` function. This is because the optimizer needs to search for the best set of hyperparameters internally in each iteration. If we want to log each iteration as an experiment run, we need to start an experiment on each optimization iteration."
   ]
  },
  {
   "cell_type": "code",
   "execution_count": 12,
   "metadata": {},
   "outputs": [],
   "source": [
    "def objective(params, x, y, cv):\n",
    "    \"\"\"\n",
    "    Objective function for an ML model to optimize.\n",
    "    \"\"\"\n",
    "    with mlflow.start_run():\n",
    "\n",
    "        mlflow.set_tags({\"developer\": \"nkgreenk\", \"model\": \"xgboost\", \"model_type\": \"hyperparameter-tuning\"})\n",
    "\n",
    "        mlflow.log_param(\"training_data\", training_data)\n",
    "        mlflow.log_param(\"validation_data\", training_data)\n",
    "\n",
    "        mlflow.log_params(params)\n",
    "        regr = XGBRegressor(**params) \n",
    "\n",
    "        scores = cross_val_score(regr, x, y, cv=cv, scoring=\"neg_root_mean_squared_error\", n_jobs=-1)\n",
    "        rmse = -1.0 * sum(scores) / len(scores)\n",
    "        mlflow.log_metric(\"rmse\", rmse)\n",
    "\n",
    "    return {\"loss\": rmse, \"status\": STATUS_OK}"
   ]
  },
  {
   "cell_type": "code",
   "execution_count": 13,
   "metadata": {},
   "outputs": [
    {
     "name": "stdout",
     "output_type": "stream",
     "text": [
      "  0%|          | 0/50 [00:00<?, ?trial/s, best loss=?]"
     ]
    },
    {
     "name": "stdout",
     "output_type": "stream",
     "text": [
      "100%|██████████| 50/50 [33:40<00:00, 40.40s/trial, best loss: 5.605232281147386] \n"
     ]
    }
   ],
   "source": [
    "kfold = KFold(n_splits=5, shuffle=True, random_state=42)\n",
    "optimizer = partial(objective, x=X_train, y=y_train, cv=kfold)\n",
    "\n",
    "best_result = fmin(\n",
    "    fn=optimizer, \n",
    "    space=search_space, \n",
    "    algo=tpe.suggest, \n",
    "    max_evals=50, \n",
    "    trials=Trials()\n",
    ")"
   ]
  },
  {
   "cell_type": "code",
   "execution_count": 14,
   "metadata": {},
   "outputs": [],
   "source": [
    "# Add full set of hyperparameters\n",
    "best_result.update({\"objective\": \"reg:squarederror\", \"random_state\": 42, \"n_jobs\": -1})\n",
    "best_result[\"n_estimators\"] = int(best_result[\"n_estimators\"])"
   ]
  },
  {
   "cell_type": "code",
   "execution_count": 15,
   "metadata": {},
   "outputs": [
    {
     "data": {
      "text/plain": [
       "{'learning_rate': 0.6171187638814656,\n",
       " 'n_estimators': 1000,\n",
       " 'objective': 'reg:squarederror',\n",
       " 'random_state': 42,\n",
       " 'n_jobs': -1}"
      ]
     },
     "execution_count": 15,
     "metadata": {},
     "output_type": "execute_result"
    }
   ],
   "source": [
    "best_result"
   ]
  },
  {
   "cell_type": "markdown",
   "metadata": {},
   "source": [
    "Note that in practice, it is essential to pay attention to the dataset you use to validate on a specific process in order to prevent **data leakage**. In this case, \"VALIDATION\" set is for model selection process.\n",
    "\n",
    "Therefore, we'll use cross validation on `train_df` to selectively choose hyperparameters before model selection."
   ]
  },
  {
   "cell_type": "markdown",
   "metadata": {},
   "source": [
    "### Fit with Best Hyperparameters"
   ]
  },
  {
   "cell_type": "markdown",
   "metadata": {},
   "source": [
    "Last, we'll use the best parameter we get from the previous process to evaluate with `validation_df` in the model selection. To do so, we'll fit the model with the best hyperparameters and the whole set of `train_df`. This time we'll log relevant information along with the training process."
   ]
  },
  {
   "cell_type": "code",
   "execution_count": 16,
   "metadata": {},
   "outputs": [
    {
     "data": {
      "image/png": "[encoded data removed]",
      "text/plain": [
       "<Figure size 640x480 with 1 Axes>"
      ]
     },
     "metadata": {},
     "output_type": "display_data"
    },
    {
     "name": "stderr",
     "output_type": "stream",
     "text": [
      "/home/codespace/miniconda3/lib/python3.12/site-packages/xgboost/core.py:160: UserWarning: [05:02:20] WARNING: /workspace/src/c_api/c_api.cc:1240: Saving into deprecated binary model format, please consider using `json` or `ubj`. Model format will default to JSON in XGBoost 2.2 if not specified.\n",
      "  warnings.warn(smsg, UserWarning)\n"
     ]
    }
   ],
   "source": [
    "with mlflow.start_run() as run:\n",
    "    \n",
    "    mlflow.set_tags({\"developer\": \"nkgreenk\", \"model\": \"xgboost\", \"model_type\": \"model_selection\"})\n",
    "    \n",
    "    mlflow.log_param(\"training_data\", training_data)\n",
    "    mlflow.log_param(\"validation_data\", validation_data)\n",
    "\n",
    "    # Log hyperparameters\n",
    "    mlflow.log_params(best_result)\n",
    "\n",
    "    # Log metric(s)\n",
    "    regr = XGBRegressor(**best_result)\n",
    "    regr.fit(X_train, y_train)\n",
    "\n",
    "    y_pred = regr.predict(X_val)\n",
    "    rmse = root_mean_squared_error(y_val, y_pred)\n",
    "    mlflow.log_metric(\"rmse\", rmse)\n",
    "\n",
    "    # Log visualization\n",
    "    trip_duration_dist, _ = plt.subplots()\n",
    "    sns.histplot(y_val, label=\"actual\", kde=True, stat=\"density\")\n",
    "    sns.histplot(y_pred, label=\"prediction\", kde=True, stat=\"density\")\n",
    "\n",
    "    plt.legend()\n",
    "    plt.show()\n",
    "\n",
    "    mlflow.log_figure(trip_duration_dist, \"visualization/xgboost-trip-duration-distribution.png\")\n",
    "\n",
    "    # Log preprocessor for data preprocessing\n",
    "    with open(\"models/preprocessor.pkl\", \"wb\") as f:\n",
    "        pickle.dump(v, f)\n",
    "    \n",
    "    mlflow.log_artifact(local_path=\"models/preprocessor.pkl\", artifact_path=\"preprocessor\")\n",
    "    \n",
    "    # Log model for prediction\n",
    "    mlflow.xgboost.log_model(regr, artifact_path=\"mlflow-models\")"
   ]
  },
  {
   "cell_type": "markdown",
   "metadata": {},
   "source": [
    "We can also use `mlflow.xgboost.autolog()` to simplify code above. This function will log all basic parameters including model and environment. However, it may not log all the relevant information needed by the users. You may need to log them yourself.\n",
    "\n",
    "Moreover, if you use a `Pipeline` object in `sklearn.pipeline`, you can log a whole pipeline as a `sklearn` or `xgboost` model. This makes a model not just predict a result but can do data preprocessing before making an inference, which als benefits us in terms of ease in model management."
   ]
  },
  {
   "cell_type": "markdown",
   "metadata": {},
   "source": [
    "Note that there is another library called *Optuna* that you can used. From the [Optuna VS Hyperopt](https://neptune.ai/blog/optuna-vs-hyperopt), *Optuna* seems to be a slightly better choice. However, if your focus is on getting the best set of hyperparameters only, *Hyperopt* can provide the same outcome.\n",
    "\n",
    "For hands-on coding on hyperparameters with various libraries used, checkout [Hyperparameter Optimization: This Tutorial is All You Need](https://www.youtube.com/watch?v=5nYqK-HaoKY)."
   ]
  },
  {
   "cell_type": "markdown",
   "metadata": {},
   "source": [
    "### Inference"
   ]
  },
  {
   "cell_type": "markdown",
   "metadata": {},
   "source": [
    "In experiment tracking, we've already log model using `mlflow.xgboost.log_model`. This will add the `MLmodel` file which add flavour to our model. Flavour will help you as an ML engineer to be able to choose which format to deploy the model. For *XGBoost*, you can select to make an inference based on the *MLflow* format or using an *XGBoost* object.\n",
    "\n",
    "Note that if you use `mlflow.log_artifact` instead, it will log the model as a file and *MLflow* won't create other metadata files automatically."
   ]
  },
  {
   "cell_type": "code",
   "execution_count": 13,
   "metadata": {},
   "outputs": [
    {
     "name": "stdout",
     "output_type": "stream",
     "text": [
      "--2024-06-02 04:20:13--  https://d37ci6vzurychx.cloudfront.net/trip-data/green_tripdata_2021-03.parquet\n",
      "Resolving d37ci6vzurychx.cloudfront.net (d37ci6vzurychx.cloudfront.net)... 18.161.3.119, 18.161.3.209, 18.161.3.141, ...\n",
      "Connecting to d37ci6vzurychx.cloudfront.net (d37ci6vzurychx.cloudfront.net)|18.161.3.119|:443... connected.\n",
      "HTTP request sent, awaiting response... 200 OK\n",
      "Length: 1474538 (1.4M) [binary/octet-stream]\n",
      "Saving to: ‘data/green_tripdata_2021-03.parquet’\n",
      "\n",
      "data/green_tripdata 100%[===================>]   1.41M  1.50MB/s    in 0.9s    \n",
      "\n",
      "2024-06-02 04:20:15 (1.50 MB/s) - ‘data/green_tripdata_2021-03.parquet’ saved [1474538/1474538]\n",
      "\n"
     ]
    }
   ],
   "source": [
    "# Download inference data\n",
    "!wget -O data/green_tripdata_2021-03.parquet https://d37ci6vzurychx.cloudfront.net/trip-data/green_tripdata_2021-03.parquet"
   ]
  },
  {
   "cell_type": "code",
   "execution_count": 17,
   "metadata": {},
   "outputs": [
    {
     "name": "stdout",
     "output_type": "stream",
     "text": [
      "Feature vector: (80372, 13221)\n",
      "Output vector: (80372,)\n"
     ]
    }
   ],
   "source": [
    "# Data preprocessing\n",
    "test_data = \"data/green_tripdata_2021-03.parquet\"\n",
    "raw_test_df = pd.read_parquet(test_data)\n",
    "\n",
    "test_df = preprocessing(raw_test_df, to_str_columns=[\"PULocationID\", \"DOLocationID\"])\n",
    "test_df = build_features(test_df)\n",
    "\n",
    "with open(\"models/preprocessor.pkl\", \"rb\") as f:\n",
    "    preprocessor = pickle.load(f)\n",
    "\n",
    "_, X_test, y_test = feature_engineering(test_df, categorical_features, numerical_features, target, v=preprocessor)\n",
    "print(f\"Feature vector: {X_test.shape}\")\n",
    "print(f\"Output vector: {y_test.shape}\")"
   ]
  },
  {
   "cell_type": "code",
   "execution_count": 18,
   "metadata": {},
   "outputs": [
    {
     "name": "stdout",
     "output_type": "stream",
     "text": [
      "RMSE on validation dataset: 6.33\n"
     ]
    }
   ],
   "source": [
    "# Model inference\n",
    "modelfile = \"runs:/00bb8f0187644496ba54c27944833f41/mlflow-models\"\n",
    "\n",
    "loaded_model = mlflow.pyfunc.load_model(modelfile) # MLflow model\n",
    "y_pred = loaded_model.predict(X_test)\n",
    "\n",
    "# loaded_model = mlflow.xgboost.load_model(modelfile) # XGBoost model\n",
    "# y_pred = loaded_model.predict(X_test)\n",
    "\n",
    "rmse = root_mean_squared_error(y_test, y_pred)\n",
    "print(f\"RMSE on validation dataset: {rmse:.2f}\")"
   ]
  },
  {
   "cell_type": "markdown",
   "metadata": {},
   "source": [
    "MLflow model and XGBoost model should yield the same results.\n",
    "\n",
    "Note that the difference between artifacts and models is *MLflow* has a specific API for models. It allows you to load and use the model directly from the tracking server. Whereas, for artifacts, you need to download or use them locally to make an inference."
   ]
  },
  {
   "cell_type": "code",
   "execution_count": null,
   "metadata": {},
   "outputs": [],
   "source": []
  }
 ],
 "metadata": {
  "kernelspec": {
   "display_name": "Python 3",
   "language": "python",
   "name": "python3"
  },
  "language_info": {
   "codemirror_mode": {
    "name": "ipython",
    "version": 3
   },
   "file_extension": ".py",
   "mimetype": "text/x-python",
   "name": "python",
   "nbconvert_exporter": "python",
   "pygments_lexer": "ipython3",
   "version": "3.12.2"
  }
 },
 "nbformat": 4,
 "nbformat_minor": 2
}
