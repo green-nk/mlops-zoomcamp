{
 "cells": [
  {
   "cell_type": "markdown",
   "metadata": {},
   "source": [
    "# Model Management"
   ]
  },
  {
   "cell_type": "markdown",
   "metadata": {},
   "source": [
    "Nice! we are now have a system to keep track of our experiments and importantly have models ready to go to the next step: Deployment. Before we can deploy a model, we need a way to manage models that can provide\n",
    "\n",
    "* Model Lineage: where the model comes from\n",
    "* Model Versioning\n",
    "* Model Transition\n",
    "* Annotations: model metadata\n",
    "\n",
    "To do so, we'll use *Model Registry*, which is a component in *MLflow* for dealing with model management."
   ]
  },
  {
   "cell_type": "markdown",
   "metadata": {},
   "source": [
    "Now that we have a model ready for deployment, we need a transparent and efficient way for the team to know which model is ready to go to the next step. Therefore, we need to register the model. This step is like a process to seemlessly hand over the work from data scientists to ML engineers. \n",
    "\n",
    "What to do is to label the model and keep adding tag and alias where there is a change to the model. There are three basic stages for tagging:\n",
    "\n",
    "* Staging: the last status before deploying to production. It can be pre-deployment test or A/B testing.\n",
    "* Production: the model serving for real users.\n",
    "* Archieve: Not in-used model.\n",
    "\n",
    "Although, there are basic tagging for identifying status of the models, *MLflow* provides tag and alias for more flexible labelling process. You can modify tag and alias using UI or *MLflow* APIs in Python. Note that a model version is automatically increment for registered model.\n",
    "\n",
    "In sum, what you need to do after creating model in each run are as the following:\n",
    "\n",
    "1. Model Registration: add a run to *MLflow* model. This is for providing a unique name to several ML model tasks.\n",
    "2. Model Tagging and Aliasing: add metadata about deployment status of the model.\n",
    "3. Model Versioning: done automatically via registering model."
   ]
  },
  {
   "cell_type": "markdown",
   "metadata": {},
   "source": [
    "## Setup"
   ]
  },
  {
   "cell_type": "code",
   "execution_count": 1,
   "metadata": {},
   "outputs": [],
   "source": [
    "from mlflow import MlflowClient\n",
    "from mlflow.entities import ViewType"
   ]
  },
  {
   "cell_type": "code",
   "execution_count": 2,
   "metadata": {},
   "outputs": [],
   "source": [
    "client = MlflowClient(tracking_uri=\"sqlite:///mlflow.db\")"
   ]
  },
  {
   "cell_type": "markdown",
   "metadata": {},
   "source": [
    "## Model Registration"
   ]
  },
  {
   "cell_type": "code",
   "execution_count": 3,
   "metadata": {},
   "outputs": [],
   "source": [
    "# List experiments\n",
    "# client.create_experiment(name=\"new-test-experiment\")\n",
    "experiments = client.search_experiments()\n",
    "experiment_id = experiments[0].experiment_id"
   ]
  },
  {
   "cell_type": "code",
   "execution_count": 4,
   "metadata": {},
   "outputs": [],
   "source": [
    "# Search top runs\n",
    "runs = client.search_runs(\n",
    "    experiment_ids=experiment_id, \n",
    "    filter_string=\"tags.model_type = 'model_selection'\", \n",
    "    run_view_type=ViewType.ACTIVE_ONLY, \n",
    "    max_results=5, \n",
    "    order_by=[\"metrics.rmse ASC\"]\n",
    ")"
   ]
  },
  {
   "cell_type": "code",
   "execution_count": 14,
   "metadata": {},
   "outputs": [
    {
     "data": {
      "text/plain": [
       "<RegisteredModel: aliases={'proposed': 1}, creation_timestamp=1717397289931, description='Trip Duration Predictor for NYC Green Taxi', last_updated_timestamp=1717397771880, latest_versions=[<ModelVersion: aliases=[], creation_timestamp=1717397290060, current_stage='None', description='Trip Duration Predictor for NYC Green Taxi', last_updated_timestamp=1717397321342, name='nyc-green-taxi-trip-duration', run_id='00bb8f0187644496ba54c27944833f41', run_link='', source='/workspaces/mlops-zoomcamp/02-experiment-tracking/mlruns/1/00bb8f0187644496ba54c27944833f41/artifacts/mlflow-models', status='READY', status_message=None, tags={'stage': 'staging'}, user_id=None, version=1>], name='nyc-green-taxi-trip-duration', tags={}>"
      ]
     },
     "execution_count": 14,
     "metadata": {},
     "output_type": "execute_result"
    }
   ],
   "source": [
    "client.get_registered_model(name=\"nyc-green-taxi-trip-duration\")"
   ]
  },
  {
   "cell_type": "code",
   "execution_count": null,
   "metadata": {},
   "outputs": [],
   "source": []
  }
 ],
 "metadata": {
  "kernelspec": {
   "display_name": "Python 3",
   "language": "python",
   "name": "python3"
  },
  "language_info": {
   "codemirror_mode": {
    "name": "ipython",
    "version": 3
   },
   "file_extension": ".py",
   "mimetype": "text/x-python",
   "name": "python",
   "nbconvert_exporter": "python",
   "pygments_lexer": "ipython3",
   "version": "3.12.2"
  }
 },
 "nbformat": 4,
 "nbformat_minor": 2
}
